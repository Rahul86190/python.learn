{
 "cells": [
  {
   "cell_type": "markdown",
   "metadata": {},
   "source": [
    "This is used to fing the links of an query from google..."
   ]
  },
  {
   "cell_type": "code",
   "execution_count": 1,
   "metadata": {},
   "outputs": [
    {
     "name": "stdout",
     "output_type": "stream",
     "text": [
      "https://www.geeksforgeeks.org/\n",
      "https://twitter.com/geeksforgeeks?ref_src=twsrc%5Egoogle%7Ctwcamp%5Eserp%7Ctwgr%5Eauthor\n",
      "https://twitter.com/geeksforgeeks/status/1817796806853448103?ref_src=twsrc%5Egoogle%7Ctwcamp%5Eserp%7Ctwgr%5Etweet\n",
      "https://twitter.com/geeksforgeeks/status/1817755734655848744?ref_src=twsrc%5Egoogle%7Ctwcamp%5Eserp%7Ctwgr%5Etweet\n",
      "https://twitter.com/geeksforgeeks/status/1817513845713211741?ref_src=twsrc%5Egoogle%7Ctwcamp%5Eserp%7Ctwgr%5Etweet\n",
      "https://twitter.com/geeksforgeeks/status/1817434226977018211?ref_src=twsrc%5Egoogle%7Ctwcamp%5Eserp%7Ctwgr%5Etweet\n",
      "https://in.linkedin.com/company/geeksforgeeks\n",
      "https://www.youtube.com/channel/UC0RhatS1pyxInC00YKjjBqQ\n",
      "https://www.instagram.com/geeks_for_geeks/?hl=en\n",
      "https://www.facebook.com/geeksforgeeks.org/\n"
     ]
    }
   ],
   "source": [
    "try:\n",
    "\tfrom googlesearch import search\n",
    "except ImportError: \n",
    "\tprint(\"No module named 'google' found\")\n",
    "\n",
    "# to search\n",
    "query = \"Geeksforgeeks\"\n",
    "\n",
    "for j in search(query, tld=\"co.in\", num=10, stop=10, pause=2):\n",
    "\tprint(j)\n"
   ]
  },
  {
   "cell_type": "markdown",
   "metadata": {},
   "source": [
    "Q= generate links for tarak mehta ka oolta cheshma"
   ]
  },
  {
   "cell_type": "code",
   "execution_count": 2,
   "metadata": {},
   "outputs": [
    {
     "name": "stdout",
     "output_type": "stream",
     "text": [
      "https://timesofindia.indiatimes.com/tv/news/hindi/palak-sindhwani-celebrates-16-years-of-taarak-mehta-ka-ooltah-chashmah-with-the-cast-members-writes-from-our-screen-to-your-hearts-/articleshow/112082856.cms\n",
      "https://www.aajtak.in/visualstories/entertainment/taarak-mehta-ka-ooltah-chashmah-goli-aka-kush-shah-quit-show-after-16-years-dilip-joshi-aka-jethalal-gets-emotional-tmkoc-tmovb-157910-27-07-2024\n",
      "https://www.indiatv.in/entertainment/tv/taarak-mehta-ka-ooltah-chashmah-actors-have-real-relationship-some-are-brother-sister-where-as-other-have-father-son-2024-07-29-1063425\n"
     ]
    }
   ],
   "source": [
    "from googlesearch import search \n",
    "query=\"taarak mehta ka oolta cheshma\"\n",
    "\n",
    "for j in search (query,tld=\"co.in\" ,stop=3):\n",
    "    print(j)\n"
   ]
  },
  {
   "cell_type": "markdown",
   "metadata": {},
   "source": [
    "Q= generate kalki2898ad  collection links "
   ]
  },
  {
   "cell_type": "code",
   "execution_count": 3,
   "metadata": {},
   "outputs": [
    {
     "name": "stdout",
     "output_type": "stream",
     "text": [
      "https://timesofindia.indiatimes.com/entertainment/hindi/bollywood/box-office/kalki-2898-ad-box-office-collection-day-31-prabhas-starrer-completes-1-month-at-ticket-windows-with-rs-628-crore-collection/articleshow/112082792.cms\n",
      "https://indianexpress.com/article/entertainment/telugu/kalki-2898-ad-box-office-collection-day-31-prabhas-blockbuster-mints-rs-627-85-crore-in-india-9480146/\n",
      "https://www.amarujala.com/photo-gallery/entertainment/south-cinema/kalki-2898-ad-box-office-collection-day-31-nag-ashwin-prabhas-deepika-padukone-film-latest-earning-occupancy-2024-07-27\n",
      "https://www.sacnilk.com/quicknews/Project_K_2024_Box_Office_Collection_Day_32?hl=en\n"
     ]
    }
   ],
   "source": [
    "from googlesearch import search\n",
    "query=\"Kalki 2898AD collection\"\n",
    "\n",
    "for j in search (query,stop=4,pause=3):\n",
    "    print(j)"
   ]
  }
 ],
 "metadata": {
  "kernelspec": {
   "display_name": "Python 3",
   "language": "python",
   "name": "python3"
  },
  "language_info": {
   "codemirror_mode": {
    "name": "ipython",
    "version": 3
   },
   "file_extension": ".py",
   "mimetype": "text/x-python",
   "name": "python",
   "nbconvert_exporter": "python",
   "pygments_lexer": "ipython3",
   "version": "3.9.2rc1"
  }
 },
 "nbformat": 4,
 "nbformat_minor": 2
}
