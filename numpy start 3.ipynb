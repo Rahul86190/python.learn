{
 "cells": [
  {
   "cell_type": "markdown",
   "metadata": {},
   "source": [
    "# Numpy 3"
   ]
  },
  {
   "cell_type": "markdown",
   "metadata": {},
   "source": [
    "> argmin\n",
    "\n",
    "> argmax\n",
    "\n",
    "> argsort\n",
    "\n",
    "> array generate br range\n",
    "\n",
    "> Generate Diagonal array \n",
    "\n",
    "> generate array elements with fix difference\n",
    "\n",
    "> Various random functions -  rand(), randn(), randf(), randint()\n",
    "\n",
    "> additional operations on array - sqroot() , sin() & cos() , cumsum()\n",
    "\n",
    "> Broadcasting in numpy\n",
    "\n",
    "> COPY and VIEW\n",
    "\n",
    "> Difference between copy and view\n",
    "\n",
    "> Join array\n",
    "\n",
    "> Stack attribute\n",
    "\n",
    "> Split array\n",
    "\n",
    "> searching in array\n",
    "\n",
    "> sorting in array"
   ]
  },
  {
   "cell_type": "markdown",
   "metadata": {},
   "source": [
    "@ Use of argmin"
   ]
  },
  {
   "cell_type": "code",
   "execution_count": 99,
   "metadata": {},
   "outputs": [],
   "source": [
    "import numpy as np"
   ]
  },
  {
   "cell_type": "code",
   "execution_count": 100,
   "metadata": {},
   "outputs": [
    {
     "name": "stdout",
     "output_type": "stream",
     "text": [
      "1\n"
     ]
    }
   ],
   "source": [
    "arr=np.array([10,2,3,4])\n",
    "index_of_minimum=arr.argmin()\n",
    "print(index_of_minimum)"
   ]
  },
  {
   "cell_type": "markdown",
   "metadata": {},
   "source": [
    "@ Use of argmax"
   ]
  },
  {
   "cell_type": "code",
   "execution_count": 101,
   "metadata": {},
   "outputs": [
    {
     "name": "stdout",
     "output_type": "stream",
     "text": [
      "0\n"
     ]
    }
   ],
   "source": [
    "arr=np.array([10,2,3,4])\n",
    "index_of_maximum=arr.argmax()\n",
    "print(index_of_maximum)"
   ]
  },
  {
   "cell_type": "markdown",
   "metadata": {},
   "source": [
    "@ Use of argsort"
   ]
  },
  {
   "cell_type": "code",
   "execution_count": 102,
   "metadata": {},
   "outputs": [
    {
     "name": "stdout",
     "output_type": "stream",
     "text": [
      "[1 2 3 0]\n"
     ]
    }
   ],
   "source": [
    "index__sort=arr.argsort()\n",
    "print(index__sort)"
   ]
  },
  {
   "cell_type": "code",
   "execution_count": 103,
   "metadata": {},
   "outputs": [
    {
     "name": "stdout",
     "output_type": "stream",
     "text": [
      "[[[[[[[[[[1 2 3 4]]]]]]]]]]\n",
      "10\n"
     ]
    }
   ],
   "source": [
    "# Generate dimensiona as want\n",
    "\n",
    "arr1=np.array([1,2,3,4],ndmin=10)\n",
    "print(arr1)\n",
    "print(arr1.ndim)"
   ]
  },
  {
   "cell_type": "markdown",
   "metadata": {},
   "source": [
    "#### generate array as want "
   ]
  },
  {
   "cell_type": "code",
   "execution_count": 104,
   "metadata": {},
   "outputs": [
    {
     "data": {
      "text/plain": [
       "array([3, 4, 5, 6, 7, 8])"
      ]
     },
     "execution_count": 104,
     "metadata": {},
     "output_type": "execute_result"
    }
   ],
   "source": [
    "arr2=np.arange(3,9)  # by this the array will be created from 3 to 8 \n",
    "arr2"
   ]
  },
  {
   "cell_type": "markdown",
   "metadata": {},
   "source": [
    "#### Generate Diagonal array "
   ]
  },
  {
   "cell_type": "code",
   "execution_count": 105,
   "metadata": {},
   "outputs": [
    {
     "data": {
      "text/plain": [
       "array([[1., 0., 0.],\n",
       "       [0., 1., 0.],\n",
       "       [0., 0., 1.]])"
      ]
     },
     "execution_count": 105,
     "metadata": {},
     "output_type": "execute_result"
    }
   ],
   "source": [
    "arr3=np.eye(3)  # 3*3 dimensional array is created using 'eye'\n",
    "arr3"
   ]
  },
  {
   "cell_type": "code",
   "execution_count": 106,
   "metadata": {},
   "outputs": [
    {
     "data": {
      "text/plain": [
       "array([[1., 0., 0., 0., 0., 0., 0.],\n",
       "       [0., 1., 0., 0., 0., 0., 0.],\n",
       "       [0., 0., 1., 0., 0., 0., 0.],\n",
       "       [0., 0., 0., 1., 0., 0., 0.]])"
      ]
     },
     "execution_count": 106,
     "metadata": {},
     "output_type": "execute_result"
    }
   ],
   "source": [
    "arr4=np.eye(4,7)\n",
    "arr4"
   ]
  },
  {
   "cell_type": "markdown",
   "metadata": {},
   "source": [
    "#### generate array elements with fix difference"
   ]
  },
  {
   "cell_type": "code",
   "execution_count": 107,
   "metadata": {},
   "outputs": [
    {
     "data": {
      "text/plain": [
       "array([ 0.        ,  2.85714286,  5.71428571,  8.57142857, 11.42857143,\n",
       "       14.28571429, 17.14285714, 20.        ])"
      ]
     },
     "execution_count": 107,
     "metadata": {},
     "output_type": "execute_result"
    }
   ],
   "source": [
    "arr_lin=np.linspace(0,20,num=8)\n",
    "arr_lin"
   ]
  },
  {
   "cell_type": "markdown",
   "metadata": {},
   "source": [
    "## Various random functions"
   ]
  },
  {
   "cell_type": "markdown",
   "metadata": {},
   "source": [
    "1. rand() = This function is used to generate random vlaues between 0 and 1"
   ]
  },
  {
   "cell_type": "code",
   "execution_count": 108,
   "metadata": {},
   "outputs": [
    {
     "name": "stdout",
     "output_type": "stream",
     "text": [
      "0.2226592783706064\n",
      "[[0.64234688 0.60747293 0.32413822 0.72653636 0.2715    ]\n",
      " [0.2027201  0.41506867 0.89861721 0.86063204 0.53695481]]\n"
     ]
    }
   ],
   "source": [
    "var=np.random.rand()   # generate random value\n",
    "print(var)\n",
    "\n",
    "var2=np.random.rand(2,5)  # generate a array  of 2*3 with random values between 0-1  \n",
    "print(var2)  "
   ]
  },
  {
   "cell_type": "markdown",
   "metadata": {},
   "source": [
    "2. randn() = This function is used to generate random vlaues closest to 0. May return +ve or -ve as well"
   ]
  },
  {
   "cell_type": "code",
   "execution_count": 109,
   "metadata": {},
   "outputs": [
    {
     "name": "stdout",
     "output_type": "stream",
     "text": [
      "1.2290869247403715\n",
      "[[-0.28743706 -1.56082372 -0.95363285  0.78298109 -0.2378703   0.3774634 ]\n",
      " [-2.20908408  0.23544794  0.67589899  0.87965212 -2.30591087  1.59444663]\n",
      " [ 0.50585666  0.67135258  0.65810602  1.3928001   0.314703   -0.23325492]\n",
      " [ 1.06001312  0.73399892 -0.06844504  0.59889168 -0.34502826  1.11833283]]\n"
     ]
    }
   ],
   "source": [
    "var3=np.random.randn()  # generate random value\n",
    "print(var3)\n",
    "\n",
    "var4=np.random.randn(4,6)   #generate array\n",
    "print(var4)    "
   ]
  },
  {
   "cell_type": "markdown",
   "metadata": {},
   "source": [
    "3. ranf() = it returns 1D array with specific shape filled with floats between range [0.0,1.0)"
   ]
  },
  {
   "cell_type": "code",
   "execution_count": 110,
   "metadata": {},
   "outputs": [
    {
     "data": {
      "text/plain": [
       "array([0.04261696, 0.33812899, 0.11396558, 0.38625973])"
      ]
     },
     "execution_count": 110,
     "metadata": {},
     "output_type": "execute_result"
    }
   ],
   "source": [
    "var5=np.random.ranf(4)\n",
    "var5"
   ]
  },
  {
   "cell_type": "markdown",
   "metadata": {},
   "source": [
    "4. Randint() = It generate a array filled with elements between given range"
   ]
  },
  {
   "cell_type": "code",
   "execution_count": 111,
   "metadata": {},
   "outputs": [
    {
     "name": "stdout",
     "output_type": "stream",
     "text": [
      "79\n",
      "[32 49 25 48 43 46 19 43 43  3 21 41 23 49 14 13 12 29 43  2]\n"
     ]
    }
   ],
   "source": [
    "var6=np.random.randint(1,90)  #  returns a single element between range 1-90\n",
    "print(var6)\n",
    "\n",
    "var7=np.random.randint(1,50,20) # returns a array of 20 element between range 1-90\n",
    "print(var7)"
   ]
  },
  {
   "cell_type": "markdown",
   "metadata": {},
   "source": [
    "## Some additional operations on array"
   ]
  },
  {
   "cell_type": "markdown",
   "metadata": {},
   "source": [
    "1. sqroot\n",
    "2. sin and cos\n",
    "3. cumsum"
   ]
  },
  {
   "cell_type": "markdown",
   "metadata": {},
   "source": [
    "1. sqroot"
   ]
  },
  {
   "cell_type": "code",
   "execution_count": 112,
   "metadata": {},
   "outputs": [
    {
     "data": {
      "text/plain": [
       "array([1.        , 1.41421356, 1.73205081, 2.        , 2.23606798,\n",
       "       2.44948974])"
      ]
     },
     "execution_count": 112,
     "metadata": {},
     "output_type": "execute_result"
    }
   ],
   "source": [
    "arr1=[1,2,3,4,5,6]\n",
    "sqr=np.sqrt(arr1)    # sqrt used to retuen square root of every element\n",
    "sqr"
   ]
  },
  {
   "cell_type": "markdown",
   "metadata": {},
   "source": [
    "2. sin and cos"
   ]
  },
  {
   "cell_type": "code",
   "execution_count": 113,
   "metadata": {},
   "outputs": [
    {
     "name": "stdout",
     "output_type": "stream",
     "text": [
      "[ 0.84147098  0.90929743  0.14112001 -0.7568025  -0.95892427 -0.2794155 ]\n",
      "[ 0.54030231 -0.41614684 -0.9899925  -0.65364362  0.28366219  0.96017029]\n"
     ]
    }
   ],
   "source": [
    "print(np.sin(arr1))   # done sin function on every element of arr1 array\n",
    "print(np.cos(arr1))   # done cos function on every element of arr1 array"
   ]
  },
  {
   "cell_type": "markdown",
   "metadata": {},
   "source": [
    "3. cumsum"
   ]
  },
  {
   "cell_type": "code",
   "execution_count": 114,
   "metadata": {},
   "outputs": [
    {
     "name": "stdout",
     "output_type": "stream",
     "text": [
      "[ 1  3  6 10 15 21]\n"
     ]
    }
   ],
   "source": [
    "print(np.cumsum(arr1))  # returns the cumulative sum of the elements . like if arr1=[1,2,3,4,5,6] then 1,1+2=3,3+3=6,6+4=10,10+5=15,15+6=21"
   ]
  },
  {
   "cell_type": "markdown",
   "metadata": {},
   "source": [
    "## Broadcasting in numpy"
   ]
  },
  {
   "cell_type": "markdown",
   "metadata": {},
   "source": [
    ">For 1D array"
   ]
  },
  {
   "cell_type": "markdown",
   "metadata": {},
   "source": [
    "* addition of two 1D arrays"
   ]
  },
  {
   "cell_type": "code",
   "execution_count": 115,
   "metadata": {},
   "outputs": [
    {
     "ename": "ValueError",
     "evalue": "operands could not be broadcast together with shapes (4,) (3,) ",
     "output_type": "error",
     "traceback": [
      "\u001b[1;31m---------------------------------------------------------------------------\u001b[0m",
      "\u001b[1;31mValueError\u001b[0m                                Traceback (most recent call last)",
      "Cell \u001b[1;32mIn[115], line 4\u001b[0m\n\u001b[0;32m      1\u001b[0m arr1\u001b[38;5;241m=\u001b[39mnp\u001b[38;5;241m.\u001b[39marray([\u001b[38;5;241m1\u001b[39m,\u001b[38;5;241m2\u001b[39m,\u001b[38;5;241m3\u001b[39m,\u001b[38;5;241m4\u001b[39m])\n\u001b[0;32m      2\u001b[0m arr2\u001b[38;5;241m=\u001b[39mnp\u001b[38;5;241m.\u001b[39marray([\u001b[38;5;241m4\u001b[39m,\u001b[38;5;241m5\u001b[39m,\u001b[38;5;241m6\u001b[39m])\n\u001b[1;32m----> 4\u001b[0m \u001b[38;5;28mprint\u001b[39m(\u001b[43marr1\u001b[49m\u001b[38;5;241;43m+\u001b[39;49m\u001b[43marr2\u001b[49m)          \u001b[38;5;66;03m# so to add two 1D arrays , dimension(shape) of both must be same otherwise it will give ValueError\u001b[39;00m\n",
      "\u001b[1;31mValueError\u001b[0m: operands could not be broadcast together with shapes (4,) (3,) "
     ]
    }
   ],
   "source": [
    "arr1=np.array([1,2,3,4])\n",
    "arr2=np.array([4,5,6])\n",
    "\n",
    "print(arr1+arr2)          # so to add two 1D arrays , dimension(shape) of both must be same otherwise it will give ValueError"
   ]
  },
  {
   "cell_type": "markdown",
   "metadata": {},
   "source": [
    ">For 2D array"
   ]
  },
  {
   "cell_type": "markdown",
   "metadata": {},
   "source": [
    "* for two 2d array in first shape is (m * _ ) and second  is ( _ * m)"
   ]
  },
  {
   "cell_type": "code",
   "execution_count": null,
   "metadata": {},
   "outputs": [
    {
     "name": "stdout",
     "output_type": "stream",
     "text": [
      "[1 2 3 4 8]\n",
      "\n",
      "[[1]\n",
      " [5]\n",
      " [7]\n",
      " [9]\n",
      " [8]]\n",
      "\n",
      "[[ 2  3  4  5  9]\n",
      " [ 6  7  8  9 13]\n",
      " [ 8  9 10 11 15]\n",
      " [10 11 12 13 17]\n",
      " [ 9 10 11 12 16]]\n",
      "\n",
      "[[ 1  2  3  4  8]\n",
      " [ 5 10 15 20 40]\n",
      " [ 7 14 21 28 56]\n",
      " [ 9 18 27 36 72]\n",
      " [ 8 16 24 32 64]]\n"
     ]
    }
   ],
   "source": [
    "var1=np.array([1,2,3,4,8])          # var1 shape is 1*_ ( 1 row and 4 column )\n",
    "var2=np.array([[1],[5],[7],[9],[8]])  # var2 sahpe is _*1 ( 4 row and 1 column )\n",
    "print(var1)\n",
    "print()\n",
    "print(var2)\n",
    "print()\n",
    "print(var1+var2)     # (1*4) and (4*1) result will be 4*4\n",
    "print()\n",
    "print(var1*var2)"
   ]
  },
  {
   "cell_type": "markdown",
   "metadata": {},
   "source": [
    "# COPY AND VIEW"
   ]
  },
  {
   "cell_type": "markdown",
   "metadata": {},
   "source": [
    "#### 1. Copy"
   ]
  },
  {
   "cell_type": "markdown",
   "metadata": {},
   "source": [
    "Copy function is used to copy the existing array "
   ]
  },
  {
   "cell_type": "code",
   "execution_count": null,
   "metadata": {},
   "outputs": [
    {
     "name": "stdout",
     "output_type": "stream",
     "text": [
      "Real:  [1 2 3 4]\n",
      "Copy:  [1 2 3 4]\n"
     ]
    }
   ],
   "source": [
    "e_arr=np.array([1,2,3,4])\n",
    "copy_arr= np.copy(e_arr)\n",
    "\n",
    "print(\"Real: \",e_arr)\n",
    "print(\"Copy: \",e_arr)"
   ]
  },
  {
   "cell_type": "markdown",
   "metadata": {},
   "source": [
    "#### 2. View"
   ]
  },
  {
   "cell_type": "markdown",
   "metadata": {},
   "source": [
    "view shows the array allocated to it"
   ]
  },
  {
   "cell_type": "code",
   "execution_count": null,
   "metadata": {},
   "outputs": [
    {
     "name": "stdout",
     "output_type": "stream",
     "text": [
      "Real:  [10 20 34 48]\n",
      "View:  [10 20 34 48]\n"
     ]
    }
   ],
   "source": [
    "e_arr=np.array([10,20,34,48])\n",
    "view_arr= e_arr.view()\n",
    "\n",
    "print(\"Real: \",e_arr)\n",
    "print(\"View: \",e_arr)"
   ]
  },
  {
   "cell_type": "markdown",
   "metadata": {},
   "source": [
    "### DIfference between Copy and View"
   ]
  },
  {
   "cell_type": "markdown",
   "metadata": {},
   "source": [
    "copy- copy owned data from real.\n",
    "\n",
    "real- real dosen't have it's own data.\n",
    "\n",
    "\n",
    "\n",
    "copy-copy of a array is new array.\n",
    "\n",
    "view- a view of original data.\n",
    "\n",
    "\n",
    "copy- changes in copy array dosen't reflect in original array.\n",
    "\n",
    "view- changes in view array will reflect in original array."
   ]
  },
  {
   "cell_type": "markdown",
   "metadata": {},
   "source": [
    "# * Join Array"
   ]
  },
  {
   "cell_type": "markdown",
   "metadata": {},
   "source": [
    "* In this cell we will read about joining of arrays"
   ]
  },
  {
   "cell_type": "markdown",
   "metadata": {},
   "source": [
    ">1d array"
   ]
  },
  {
   "cell_type": "code",
   "execution_count": null,
   "metadata": {},
   "outputs": [
    {
     "name": "stdout",
     "output_type": "stream",
     "text": [
      "[1 2 3 4 5 6 7]\n"
     ]
    }
   ],
   "source": [
    "arr1=np.array([1,2,3,4])\n",
    "arr2=np.array([5,6,7])\n",
    "\n",
    "j_arr=np.concatenate((arr1,arr2))\n",
    "print(j_arr)"
   ]
  },
  {
   "cell_type": "markdown",
   "metadata": {},
   "source": [
    ">2D array"
   ]
  },
  {
   "cell_type": "code",
   "execution_count": null,
   "metadata": {},
   "outputs": [
    {
     "name": "stdout",
     "output_type": "stream",
     "text": [
      "[[1 2 3 4]\n",
      " [2 7 9 9]]\n",
      "\n",
      "[[5 6 7 5]\n",
      " [2 5 6 0]]\n",
      "\n",
      "[[1 2 3 4 5 6 7 5]\n",
      " [2 7 9 9 2 5 6 0]]\n"
     ]
    }
   ],
   "source": [
    "arr1=np.array([[1,2,3,4],[2,7,9,9]])\n",
    "arr2=np.array([[5,6,7,5],[2,5,6,0]])\n",
    "\n",
    "new_arr=np.concatenate((arr1,arr2),axis=1)  # axis =1 -> arrays wiil be join accoring to column\n",
    "print(arr1)\n",
    "print()\n",
    "print(arr2)\n",
    "print()\n",
    "print(new_arr)"
   ]
  },
  {
   "cell_type": "code",
   "execution_count": null,
   "metadata": {},
   "outputs": [
    {
     "ename": "ValueError",
     "evalue": "setting an array element with a sequence. The requested array has an inhomogeneous shape after 1 dimensions. The detected shape was (2,) + inhomogeneous part.",
     "output_type": "error",
     "traceback": [
      "\u001b[1;31m---------------------------------------------------------------------------\u001b[0m",
      "\u001b[1;31mValueError\u001b[0m                                Traceback (most recent call last)",
      "Cell \u001b[1;32mIn[75], line 1\u001b[0m\n\u001b[1;32m----> 1\u001b[0m arr1\u001b[38;5;241m=\u001b[39m\u001b[43mnp\u001b[49m\u001b[38;5;241;43m.\u001b[39;49m\u001b[43marray\u001b[49m\u001b[43m(\u001b[49m\u001b[43m[\u001b[49m\u001b[43m[\u001b[49m\u001b[38;5;241;43m1\u001b[39;49m\u001b[43m,\u001b[49m\u001b[38;5;241;43m2\u001b[39;49m\u001b[43m,\u001b[49m\u001b[38;5;241;43m3\u001b[39;49m\u001b[43m,\u001b[49m\u001b[38;5;241;43m4\u001b[39;49m\u001b[43m]\u001b[49m\u001b[43m,\u001b[49m\u001b[43m[\u001b[49m\u001b[38;5;241;43m1\u001b[39;49m\u001b[43m,\u001b[49m\u001b[38;5;241;43m3\u001b[39;49m\u001b[43m,\u001b[49m\u001b[38;5;241;43m5\u001b[39;49m\u001b[43m]\u001b[49m\u001b[43m]\u001b[49m\u001b[43m)\u001b[49m\n\u001b[0;32m      2\u001b[0m arr2\u001b[38;5;241m=\u001b[39mnp\u001b[38;5;241m.\u001b[39marray([[\u001b[38;5;241m5\u001b[39m,\u001b[38;5;241m6\u001b[39m,\u001b[38;5;241m7\u001b[39m],[\u001b[38;5;241m1\u001b[39m,\u001b[38;5;241m2\u001b[39m,\u001b[38;5;241m4\u001b[39m,\u001b[38;5;241m5\u001b[39m]])\n\u001b[0;32m      4\u001b[0m j_arr\u001b[38;5;241m=\u001b[39mnp\u001b[38;5;241m.\u001b[39mconcatenate((arr1,arr2))\n",
      "\u001b[1;31mValueError\u001b[0m: setting an array element with a sequence. The requested array has an inhomogeneous shape after 1 dimensions. The detected shape was (2,) + inhomogeneous part."
     ]
    }
   ],
   "source": [
    "arr1=np.array([[1,2,3,4],[1,3,5]])  #  To avoid ValueError , setting an array element with a sequence.\n",
    "arr2=np.array([[5,6,7],[1,2,4,5]])\n",
    "\n",
    "j_arr=np.concatenate((arr1,arr2))\n",
    "print(j_arr)         # this join won't work"
   ]
  },
  {
   "cell_type": "markdown",
   "metadata": {},
   "source": [
    "## Stack"
   ]
  },
  {
   "cell_type": "markdown",
   "metadata": {},
   "source": [
    "* stack besed on join opeartion but retuen pairs in the a array"
   ]
  },
  {
   "cell_type": "code",
   "execution_count": null,
   "metadata": {},
   "outputs": [
    {
     "name": "stdout",
     "output_type": "stream",
     "text": [
      "[[1 5]\n",
      " [2 6]\n",
      " [3 7]\n",
      " [4 8]]\n",
      "\n",
      "[[1 2 3 4]\n",
      " [5 6 7 8]]\n",
      "\n",
      "[[1 2 3 4]\n",
      " [5 6 7 8]]\n"
     ]
    }
   ],
   "source": [
    "arr_1=np.array([1,2,3,4])\n",
    "arr_2=np.array([5,6,7,8])\n",
    "\n",
    "new_a=np.stack((arr_1,arr_2),axis=1)\n",
    "new_a_0=np.stack((arr_1,arr_2),axis=0)   # by default axis always is 0\n",
    "new_a_d=np.stack((arr_1,arr_2))\n",
    "print(new_a)\n",
    "print()\n",
    "print(new_a_0)\n",
    "print()\n",
    "print(new_a_d)"
   ]
  },
  {
   "cell_type": "markdown",
   "metadata": {},
   "source": [
    "## Split array"
   ]
  },
  {
   "cell_type": "markdown",
   "metadata": {},
   "source": [
    "* arrays can be split in equal parts by split function"
   ]
  },
  {
   "cell_type": "code",
   "execution_count": null,
   "metadata": {},
   "outputs": [
    {
     "name": "stdout",
     "output_type": "stream",
     "text": [
      "[array([1, 2]), array([3, 4]), array([5, 6])]\n",
      "\n",
      "\n",
      "[array([1, 2, 3]), array([4, 5, 6])]\n"
     ]
    }
   ],
   "source": [
    "n_arr=np.array([1,2,3,4,5,6])\n",
    "\n",
    "n_new=np.split(n_arr,3)   # split the array in 3 parts\n",
    "# n_new1=np.split(n_arr,4)   # split the array in 4 parts\n",
    "# n_new2=np.split(n_arr,5)   # split the array in 5 parts\n",
    "n_new3=np.split(n_arr,2)   # split the array in 2 parts\n",
    "\n",
    "print(n_new)\n",
    "print()\n",
    "# print(n_new1) \n",
    "# print()\n",
    "# print(n_new2) \n",
    "print()\n",
    "print(n_new3) \n",
    "\n",
    "# split in 4 and 5 parts can not be possiple. spliting should equal(each part contain equal elements)"
   ]
  },
  {
   "cell_type": "markdown",
   "metadata": {},
   "source": [
    "## Searching in numpy\n"
   ]
  },
  {
   "cell_type": "code",
   "execution_count": null,
   "metadata": {},
   "outputs": [
    {
     "name": "stdout",
     "output_type": "stream",
     "text": [
      "(array([1, 4]),)\n"
     ]
    }
   ],
   "source": [
    "a1=np.array([1,2,4,6,2,8,9])\n",
    "x=np.where(a1==2)       # we can search an element in an array and can get its index using index\n",
    "print(x)"
   ]
  },
  {
   "cell_type": "code",
   "execution_count": null,
   "metadata": {},
   "outputs": [
    {
     "name": "stdout",
     "output_type": "stream",
     "text": [
      "(array([1, 2, 3, 4, 5]),)\n"
     ]
    }
   ],
   "source": [
    "a1=np.array([1,2,4,6,2,8,9])\n",
    "x=np.where(a1%2==0)       \n",
    "print(x)"
   ]
  },
  {
   "cell_type": "markdown",
   "metadata": {},
   "source": [
    "### Search sorted Array "
   ]
  },
  {
   "cell_type": "markdown",
   "metadata": {},
   "source": [
    "it retrun the index where the specific value would be inserted in sorted array"
   ]
  },
  {
   "cell_type": "code",
   "execution_count": null,
   "metadata": {},
   "outputs": [
    {
     "name": "stdout",
     "output_type": "stream",
     "text": [
      "3\n",
      "2\n"
     ]
    }
   ],
   "source": [
    "a2=np.array([1,2,4,6,7,9])\n",
    "x1=np.searchsorted(a2,5) # it shows in a1 what will be the location of 5 ( sorted array)      \n",
    "x2=np.searchsorted(a2,3) # it shows in a1 what will be the location of 3 ( sorted array)\n",
    "\n",
    "print(x1)\n",
    "print(x2)"
   ]
  },
  {
   "cell_type": "markdown",
   "metadata": {},
   "source": [
    "## SORT"
   ]
  },
  {
   "cell_type": "code",
   "execution_count": null,
   "metadata": {},
   "outputs": [
    {
     "name": "stdout",
     "output_type": "stream",
     "text": [
      "[ 1  1  2  4  7  7 24 45 65]\n"
     ]
    }
   ],
   "source": [
    "a1=np.array([2,4,7,1,45,65,1,24,7])\n",
    "print(np.sort(a1))"
   ]
  },
  {
   "cell_type": "code",
   "execution_count": null,
   "metadata": {},
   "outputs": [
    {
     "name": "stdout",
     "output_type": "stream",
     "text": [
      "['a' 'f' 'g' 'r']\n"
     ]
    }
   ],
   "source": [
    "a2=np.array(['a','f','g','r'])\n",
    "print(np.sort(a2))"
   ]
  }
 ],
 "metadata": {
  "kernelspec": {
   "display_name": "Python 3",
   "language": "python",
   "name": "python3"
  },
  "language_info": {
   "codemirror_mode": {
    "name": "ipython",
    "version": 3
   },
   "file_extension": ".py",
   "mimetype": "text/x-python",
   "name": "python",
   "nbconvert_exporter": "python",
   "pygments_lexer": "ipython3",
   "version": "3.12.3"
  }
 },
 "nbformat": 4,
 "nbformat_minor": 2
}
